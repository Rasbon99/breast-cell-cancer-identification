{
  "cells": [
    {
      "cell_type": "markdown",
      "metadata": {
        "id": "xkD46W9C4wyt"
      },
      "source": [
        "# Mounting a Google Drive"
      ]
    },
    {
      "cell_type": "code",
      "execution_count": null,
      "metadata": {
        "colab": {
          "base_uri": "https://localhost:8080/"
        },
        "id": "f4l4gYxq4hvD",
        "outputId": "44b16641-f3e1-405f-ecb9-5c19f7a771f0"
      },
      "outputs": [
        {
          "output_type": "stream",
          "name": "stdout",
          "text": [
            "Drive already mounted at /content/drive; to attempt to forcibly remount, call drive.mount(\"/content/drive\", force_remount=True).\n"
          ]
        }
      ],
      "source": [
        "from google.colab import drive\n",
        "drive.mount('/content/drive')"
      ]
    },
    {
      "cell_type": "markdown",
      "metadata": {
        "id": "o24JpwueTm7J"
      },
      "source": [
        "# Import delle Librerie"
      ]
    },
    {
      "cell_type": "code",
      "execution_count": null,
      "metadata": {
        "id": "I6wFd3h6TbTh"
      },
      "outputs": [],
      "source": [
        "# Librerie per la manipolazione e l'analisi dei dati\n",
        "import pandas as pd\n",
        "import numpy as np\n",
        "\n",
        "# Librerie per il deep learning\n",
        "import torch\n",
        "import torch.nn as nn\n",
        "import torch.optim as optim\n",
        "import torchvision\n",
        "from torchvision import datasets, models, transforms                            # Gestione di dataset, modelli pre-addestrati e trasformazioni\n",
        "\n",
        "# Librerie per la visualizzazione dei dati\n",
        "import matplotlib.pyplot as plt\n",
        "\n",
        "# Librerie per la gestione del tempo e del sistema operativo\n",
        "import time\n",
        "import os\n",
        "import shutil                                                                   # Operazioni ad alto livello sui file, come copia e rimozione (usato per splittare i dati)\n",
        "import sys\n",
        "\n",
        "# Altre utilità\n",
        "import scipy.io as sio                                                          # Lavorare con file MATLAB\n",
        "import copy\n",
        "import random\n",
        "from random import shuffle\n",
        "#from sklearn.model_selection import train_test_split                            # Dividere i dataset in set di allenamento e test\n",
        "from torch.utils.data import DataLoader, Dataset                                # Gestione dei dataset\n",
        "from torchsummary import summary\n",
        "from tqdm import tqdm\n",
        "from sklearn.model_selection import StratifiedShuffleSplit                      # Suddividere in modo stratificato i dataset (molto utile, crea un iteratore)\n",
        "from collections import defaultdict                                             # Dizionari con valori predefiniti\n",
        "import re                                                                       # Espressioni regolari, ricerca nei testi\n"
      ]
    },
    {
      "cell_type": "markdown",
      "metadata": {
        "id": "Mu9qDOUQVXAx"
      },
      "source": [
        "# Check sui device"
      ]
    },
    {
      "cell_type": "code",
      "execution_count": null,
      "metadata": {
        "colab": {
          "base_uri": "https://localhost:8080/"
        },
        "id": "NuGozF8RVa3p",
        "outputId": "dbd9bca0-79f6-4fb8-f3de-c5b6503b03bf"
      },
      "outputs": [
        {
          "output_type": "stream",
          "name": "stdout",
          "text": [
            "Version: 2.3.0+cu121\n",
            "Avaible?: True\n",
            "Device: Tesla T4\n",
            "Run GPU?: cuda:0\n"
          ]
        }
      ],
      "source": [
        "print(\"Version: \" + str(torch.__version__))\n",
        "print(\"Avaible?: \" + str(torch.cuda.is_available()))\n",
        "print(\"Device: \" + str(torch.cuda.get_device_name(0)))\n",
        "device = torch.device(\"cuda:0\" if torch.cuda.is_available() else \"cpu\")\n",
        "print(\"Run GPU?: \" + str(device))"
      ]
    },
    {
      "cell_type": "markdown",
      "metadata": {
        "id": "-ahKqZ-Kyfc1"
      },
      "source": [
        "# Randomizzazione Deterministica"
      ]
    },
    {
      "cell_type": "code",
      "execution_count": null,
      "metadata": {
        "id": "-KUyVhs4ybQu"
      },
      "outputs": [],
      "source": [
        "# Rendere l'esecuzione deterministica\n",
        "torch.manual_seed(0)\n",
        "np.random.seed(0)\n",
        "torch.backends.cudnn.deterministic = True\n",
        "torch.backends.cudnn.benchmark = False"
      ]
    },
    {
      "cell_type": "markdown",
      "metadata": {
        "id": "FxcwDV5sUl1i"
      },
      "source": [
        "# Path"
      ]
    },
    {
      "cell_type": "code",
      "execution_count": null,
      "metadata": {
        "id": "W5etl6LNT1Ix"
      },
      "outputs": [],
      "source": [
        "DATA_PATH = '/content/drive/MyDrive/ML/Minicontest3/Dataset'\n",
        "DATASET_PATH = '/content/drive/MyDrive/ML/Minicontest3/Dataset/dataset'\n",
        "TRAIN_PATH = '/content/drive/MyDrive/ML/Minicontest3/Dataset/train'\n",
        "VAL_PATH = '/content/drive/MyDrive/ML/Minicontest3/Dataset/val'\n",
        "TEST_PATH = '/content/drive/MyDrive/ML/Minicontest3/Dataset/test'\n",
        "COLTURE_PATH = '/content/drive/MyDrive/ML/Minicontest3/Dataset/colture'\n",
        "WEIGHTS_PATH = '/content/drive/MyDrive/ML/Minicontest3/Weights'\n",
        "FINAL_WEIGHTS_PATH = '/content/drive/MyDrive/ML/Minicontest3/Weights/Final_Weights'"
      ]
    },
    {
      "cell_type": "markdown",
      "metadata": {
        "id": "RRfbXMRSEZzR"
      },
      "source": [
        "# Data Visualization"
      ]
    },
    {
      "cell_type": "code",
      "execution_count": null,
      "metadata": {
        "id": "v3eFyG4AEuOj"
      },
      "outputs": [],
      "source": [
        "def list_npy_files(folder_path):\n",
        "    \"\"\"\n",
        "    Elenca i file .npy in una cartella e nelle sue sottocartelle.\n",
        "\n",
        "    Parameters:\n",
        "    folder_path (str): Il percorso della cartella da esaminare.\n",
        "\n",
        "    Returns:\n",
        "    list: Una lista dei percorsi completi dei file .npy trovati.\n",
        "    \"\"\"\n",
        "    npy_files = []\n",
        "    for root, dirs, files in os.walk(folder_path):\n",
        "        for file in files:\n",
        "            if file.endswith('.npy'):\n",
        "                npy_files.append(os.path.join(root, file))\n",
        "    return npy_files\n",
        "\n",
        "def display_images(npy_files, num_images_to_show=100, reverse_order=False):\n",
        "    \"\"\"\n",
        "    Visualizza le immagini numpy con i canali separati, il nome del file e le dimensioni sotto l'ultima immagine.\n",
        "\n",
        "    Parameters:\n",
        "    npy_files (list): Lista dei percorsi dei file .npy.\n",
        "    num_images_to_show (int): Numero di immagini da visualizzare.\n",
        "    reverse_order (bool): Se True, ordina i file in ordine alfabetico inverso.\n",
        "    \"\"\"\n",
        "    if reverse_order:\n",
        "        npy_files.sort(reverse=True)\n",
        "    else:\n",
        "        npy_files.sort()\n",
        "\n",
        "    num_images_to_show = min(num_images_to_show, len(npy_files))                # Ci si assicura di non superare il numero di file disponibili\n",
        "\n",
        "    plt.figure(figsize=(10, 2 * num_images_to_show))\n",
        "    channel_titles = ['Channel 1', 'Channel 2', 'Channel 3', 'Original Image']  # Etichette dei canali\n",
        "\n",
        "    for i in range(num_images_to_show):\n",
        "        image = np.load(npy_files[i])                                           # Carica l'immagine numpy\n",
        "        channels = [image[:, :, 0], image[:, :, 1], image[:, :, 2], image]      # Divide l'immagine nei suoi canali\n",
        "        dimensions = image.shape                                                # Ottieni le dimensioni dell'immagine\n",
        "\n",
        "        for j, channel in enumerate(channels):\n",
        "            plt.subplot(num_images_to_show, 4, 4 * i + j + 1)\n",
        "            plt.imshow(channel, cmap='gray')\n",
        "            plt.axis('off')\n",
        "            if i == 0:\n",
        "                plt.title(channel_titles[j])\n",
        "\n",
        "        plt.subplot(num_images_to_show, 4, 4 * i + 4)\n",
        "        plt.title(os.path.basename(npy_files[i]), fontsize=8)                   # Aggiunge il nome del file come titolo dell'ultimo canale\n",
        "        plt.axis('off')\n",
        "\n",
        "    plt.tight_layout()                                                          # Regola automaticamente gli spazi tra subplot\n",
        "    plt.show()"
      ]
    },
    {
      "cell_type": "code",
      "execution_count": null,
      "metadata": {
        "id": "KWODI6FXddsg"
      },
      "outputs": [],
      "source": [
        "NUM_IMAGES_TO_SHOW = 15\n",
        "REVERSE_ORDER = False\n",
        "\n",
        "npy_files = list_npy_files(TEST_PATH)\n",
        "\n",
        "if not npy_files:\n",
        "    print(\"No .npy files found in the specified directory.\")\n",
        "else:\n",
        "    display_images(npy_files, NUM_IMAGES_TO_SHOW, REVERSE_ORDER)"
      ]
    },
    {
      "cell_type": "markdown",
      "metadata": {
        "id": "eVRyLlv4UE62"
      },
      "source": [
        "# Data Cleansing"
      ]
    },
    {
      "cell_type": "code",
      "execution_count": null,
      "metadata": {
        "id": "YdHqDXubUETg"
      },
      "outputs": [],
      "source": [
        "def move_large_files(base_path, destination_folder, size_threshold_mb=10):\n",
        "    \"\"\"\n",
        "    Scorre le cartelle e sposta i file più grandi di size_threshold_mb in una nuova cartella.\n",
        "\n",
        "    Parameters:\n",
        "    base_path (str): Il percorso della cartella principale.\n",
        "    destination_folder (str): Percorso della cartella di destinazione per i file grandi.\n",
        "    size_threshold_mb (int): La dimensione in MB sopra la quale i file vengono spostati. Default è 10MB.\n",
        "    \"\"\"\n",
        "    # Assicura che la cartella di destinazione esista\n",
        "    if not os.path.exists(destination_folder):\n",
        "        os.makedirs(destination_folder)\n",
        "\n",
        "    size_threshold_bytes = size_threshold_mb * 1024 * 1024  # Converte MB in byte\n",
        "\n",
        "    for root, dirs, files in os.walk(base_path):\n",
        "        for file in files:\n",
        "            file_path = os.path.join(root, file)\n",
        "            file_size = os.path.getsize(file_path)\n",
        "\n",
        "            if file_size > size_threshold_bytes:\n",
        "                # Crea il percorso di destinazione\n",
        "                relative_path = os.path.relpath(root, base_path)\n",
        "                destination_path = os.path.join(destination_folder, relative_path)\n",
        "\n",
        "                if not os.path.exists(destination_path):\n",
        "                    os.makedirs(destination_path)\n",
        "\n",
        "                # Sposta il file\n",
        "                shutil.move(file_path, os.path.join(destination_path, file))\n",
        "                print(f\"Spostato '{file_path}' a '{os.path.join(destination_path, file)}'\")\n",
        "\n",
        "def display_images_from_folder(folder_path):\n",
        "    \"\"\"\n",
        "    Visualizza tutte le immagini numpy di una cartella e delle sue sottocartelle.\n",
        "\n",
        "    Parameters:\n",
        "    folder_path (str): Il percorso della cartella contenente le immagini numpy.\n",
        "    \"\"\"\n",
        "    # Estensione dei numpy\n",
        "    npy_extension = '.npy'\n",
        "\n",
        "    for root, _, files in os.walk(folder_path):\n",
        "        # Filtra i file per estensione numpy\n",
        "        npy_files = [f for f in files if f.lower().endswith(npy_extension)]\n",
        "\n",
        "        # Visualizza ogni file numpy\n",
        "        for npy_file in npy_files:\n",
        "            npy_path = os.path.join(root, npy_file)\n",
        "            try:\n",
        "                image = np.load(npy_path)   # Carica il file numpy\n",
        "                plt.imshow(image)\n",
        "                plt.title(npy_file)\n",
        "                plt.axis('off')             # Disabilita gli assi\n",
        "                plt.show()\n",
        "            except Exception as e:\n",
        "                print(f\"Errore nell'aprire {npy_file} in {root}: {e}\")"
      ]
    },
    {
      "cell_type": "code",
      "execution_count": null,
      "metadata": {
        "id": "7eS4C6d6URpq"
      },
      "outputs": [],
      "source": [
        "# Rimozione delle colture\n",
        "move_large_files(DATASET_PATH, COLTURE_PATH)\n",
        "display_images_from_folder(COLTURE_PATH)"
      ]
    },
    {
      "cell_type": "markdown",
      "source": [
        "# Randomic Splitting (Holdout)"
      ],
      "metadata": {
        "id": "u1rb03hCcbQ0"
      }
    },
    {
      "cell_type": "code",
      "source": [
        "def rand_split_dataset(dataset_path, destination_path, val_ratio=0.2, seed=42):\n",
        "    \"\"\"\n",
        "    Divide un dataset in training e validation dividendo le istanze in modo randomico.\n",
        "\n",
        "    Parameters:\n",
        "    dataset_path (str): Il percorso del dataset originale.\n",
        "    destination_path (str): Il percorso della cartella dove salvare i dataset suddivisi.\n",
        "    val_ratio (float): La proporzione dei file da includere nel set di validation (default è 0.2).\n",
        "    seed (int): Il seme per il generatore di numeri casuali per garantire la riproducibilità (default è 42).\n",
        "    \"\"\"\n",
        "    # Imposta il seme per la riproducibilità\n",
        "    random.seed(seed)\n",
        "\n",
        "    # Percorsi delle cartelle di destinazione\n",
        "    train_dir = os.path.join(destination_path, 'train')\n",
        "    val_dir = os.path.join(destination_path, 'val')\n",
        "\n",
        "    # Crea le cartelle di destinazione se non esistono\n",
        "    os.makedirs(train_dir, exist_ok=True)\n",
        "    os.makedirs(val_dir, exist_ok=True)\n",
        "\n",
        "    # Elenco dei file nel dataset, comprese le sottocartelle\n",
        "    files = []\n",
        "    for root, _, filenames in os.walk(dataset_path):\n",
        "        for filename in filenames:\n",
        "            files.append(os.path.join(root, filename))\n",
        "\n",
        "    # Mescola i file e dividili in due insiemi\n",
        "    random.shuffle(files)\n",
        "    split_point = int(len(files) * val_ratio)\n",
        "    val_files = files[:split_point]\n",
        "    train_files = files[split_point:]\n",
        "\n",
        "    # Sposta i file nelle cartelle di destinazione con barra di avanzamento\n",
        "    print(\"Spostamento dei file nella cartella 'train':\")\n",
        "    for file in tqdm(train_files, desc=\"Train files\"):\n",
        "        # Calcola il percorso di destinazione mantenendo la struttura delle sottocartelle\n",
        "        rel_path = os.path.relpath(file, dataset_path)\n",
        "        dest_path = os.path.join(train_dir, rel_path)\n",
        "        os.makedirs(os.path.dirname(dest_path), exist_ok=True)\n",
        "        shutil.move(file, dest_path)\n",
        "\n",
        "    print(\"Spostamento dei file nella cartella 'val':\")\n",
        "    for file in tqdm(val_files, desc=\"Validation files\"):\n",
        "        # Calcola il percorso di destinazione mantenendo la struttura delle sottocartelle\n",
        "        rel_path = os.path.relpath(file, dataset_path)\n",
        "        dest_path = os.path.join(val_dir, rel_path)\n",
        "        os.makedirs(os.path.dirname(dest_path), exist_ok=True)\n",
        "        shutil.move(file, dest_path)\n",
        "\n",
        "    print(f\"Dataset suddiviso: {len(train_files)} file in 'train', {len(val_files)} file in 'val'\")"
      ],
      "metadata": {
        "id": "aHFJc8QgcaNU"
      },
      "execution_count": null,
      "outputs": []
    },
    {
      "cell_type": "code",
      "source": [
        "rand_split_dataset(DATASET_PATH, DATA_PATH, val_ratio=0.25, seed=42)\n"
      ],
      "metadata": {
        "colab": {
          "base_uri": "https://localhost:8080/"
        },
        "id": "s6kmhXubdw9j",
        "outputId": "f44b92ef-eaf0-4ae9-a364-be43789fce5f"
      },
      "execution_count": null,
      "outputs": [
        {
          "output_type": "stream",
          "name": "stdout",
          "text": [
            "Spostamento dei file nella cartella 'train_2':\n"
          ]
        },
        {
          "output_type": "stream",
          "name": "stderr",
          "text": [
            "Train files: 100%|██████████| 3670/3670 [00:14<00:00, 258.67it/s]\n"
          ]
        },
        {
          "output_type": "stream",
          "name": "stdout",
          "text": [
            "Spostamento dei file nella cartella 'val_2':\n"
          ]
        },
        {
          "output_type": "stream",
          "name": "stderr",
          "text": [
            "Validation files: 100%|██████████| 1223/1223 [00:04<00:00, 244.74it/s]"
          ]
        },
        {
          "output_type": "stream",
          "name": "stdout",
          "text": [
            "Dataset suddiviso: 3670 file in 'train_2', 1223 file in 'val_2'\n"
          ]
        },
        {
          "output_type": "stream",
          "name": "stderr",
          "text": [
            "\n"
          ]
        }
      ]
    },
    {
      "cell_type": "markdown",
      "source": [
        "# Strartified Splitting (Holdout)"
      ],
      "metadata": {
        "id": "cme6Q_p301y_"
      }
    },
    {
      "cell_type": "code",
      "source": [
        "def split_dataset(dataset_path, destination_path, val_ratio=0.25, seed=42):\n",
        "    \"\"\"\n",
        "    Divide un dataset in training e validation dividendo le istanze in modo stratificato.\n",
        "\n",
        "    Parameters:\n",
        "    dataset_path (str): Il percorso del dataset originale.\n",
        "    destination_path (str): Il percorso della cartella dove salvare i dataset suddivisi.\n",
        "    val_ratio (float): La proporzione dei file da includere nel set di validation (default è 0.2).\n",
        "    seed (int): Il seme per il generatore di numeri casuali per garantire la riproducibilità (default è 42).\n",
        "    \"\"\"\n",
        "    # Imposta il seme per la riproducibilità\n",
        "    random.seed(seed)\n",
        "\n",
        "    # Percorsi delle cartelle di destinazione\n",
        "    train_dir = os.path.join(destination_path, 'train')\n",
        "    val_dir = os.path.join(destination_path, 'val')\n",
        "\n",
        "    # Crea le cartelle di destinazione se non esistono\n",
        "    os.makedirs(train_dir, exist_ok=True)\n",
        "    os.makedirs(val_dir, exist_ok=True)\n",
        "\n",
        "    # Elenco dei file nel dataset, comprese le sottocartelle\n",
        "    files = []\n",
        "    labels = []\n",
        "    for root, _, filenames in os.walk(dataset_path):\n",
        "        for filename in filenames:\n",
        "            file_path = os.path.join(root, filename)\n",
        "            files.append(file_path)\n",
        "            # Assumi che le classi siano rappresentate dalle sottocartelle\n",
        "            labels.append(os.path.basename(root))\n",
        "\n",
        "    # Utilizza StratifiedShuffleSplit per dividere i file in modo stratificato\n",
        "    strat_split = StratifiedShuffleSplit(n_splits=1, test_size=val_ratio, random_state=seed)\n",
        "    train_indices, val_indices = next(strat_split.split(files, labels))\n",
        "\n",
        "    train_files = [files[i] for i in train_indices]\n",
        "    val_files = [files[i] for i in val_indices]\n",
        "\n",
        "    # Funzione per spostare i file nelle cartelle di destinazione mantenendo la struttura delle sottocartelle\n",
        "    def move_files(file_list, dest_dir):\n",
        "        for file in tqdm(file_list, desc=f\"Moving files to {dest_dir}\"):\n",
        "            rel_path = os.path.relpath(file, dataset_path)\n",
        "            dest_path = os.path.join(dest_dir, rel_path)\n",
        "            os.makedirs(os.path.dirname(dest_path), exist_ok=True)\n",
        "            shutil.move(file, dest_path)\n",
        "\n",
        "    # Sposta i file nelle cartelle di destinazione\n",
        "    print(\"Spostamento dei file nella cartella 'train':\")\n",
        "    move_files(train_files, train_dir)\n",
        "\n",
        "    print(\"Spostamento dei file nella cartella 'val':\")\n",
        "    move_files(val_files, val_dir)\n",
        "\n",
        "    print(f\"Dataset suddiviso: {len(train_files)} file in 'train', {len(val_files)} file in 'val'\")\n"
      ],
      "metadata": {
        "id": "B9UpFsx201a2"
      },
      "execution_count": null,
      "outputs": []
    },
    {
      "cell_type": "code",
      "source": [
        "split_dataset(DATASET_PATH, DATA_PATH, val_ratio=0.25, seed=42)"
      ],
      "metadata": {
        "colab": {
          "base_uri": "https://localhost:8080/"
        },
        "id": "Ur7IB6sp1grO",
        "outputId": "5857571f-c231-4cce-e198-d3f65f308481"
      },
      "execution_count": null,
      "outputs": [
        {
          "output_type": "stream",
          "name": "stdout",
          "text": [
            "Spostamento dei file nella cartella 'train_3':\n"
          ]
        },
        {
          "output_type": "stream",
          "name": "stderr",
          "text": [
            "Moving files to /content/drive/MyDrive/ML/Minicontest3/Dataset/train_3: 100%|██████████| 3669/3669 [00:16<00:00, 227.01it/s]\n"
          ]
        },
        {
          "output_type": "stream",
          "name": "stdout",
          "text": [
            "Spostamento dei file nella cartella 'val_3':\n"
          ]
        },
        {
          "output_type": "stream",
          "name": "stderr",
          "text": [
            "Moving files to /content/drive/MyDrive/ML/Minicontest3/Dataset/val_3: 100%|██████████| 1224/1224 [00:05<00:00, 214.02it/s]"
          ]
        },
        {
          "output_type": "stream",
          "name": "stdout",
          "text": [
            "Dataset suddiviso: 3669 file in 'train_3', 1224 file in 'val_3'\n"
          ]
        },
        {
          "output_type": "stream",
          "name": "stderr",
          "text": [
            "\n"
          ]
        }
      ]
    },
    {
      "cell_type": "markdown",
      "metadata": {
        "id": "mrqChSDvh1qg"
      },
      "source": [
        "# Data Loader e Trasformazioni\n"
      ]
    },
    {
      "cell_type": "code",
      "source": [
        "# Dimensione del batch\n",
        "batch_size = 32"
      ],
      "metadata": {
        "id": "eOFhEE1H3Ap7"
      },
      "execution_count": null,
      "outputs": []
    },
    {
      "cell_type": "code",
      "source": [
        "# Definizione della classe My_DatasetFolder\n",
        "class My_DatasetFolder(Dataset):\n",
        "    def __init__(self, root, transform, is_valid_file, list_classes):\n",
        "        self.root = root\n",
        "        self.transform = transform\n",
        "        self.is_valid_file = is_valid_file\n",
        "        self.list_classes = list_classes\n",
        "        self.samples = self.__get_samples()\n",
        "\n",
        "    def __len__(self):\n",
        "        return len(self.samples)\n",
        "\n",
        "    def __get_samples(self):\n",
        "        ListFiles = []\n",
        "        for c in self.list_classes:\n",
        "            list_folder = os.listdir(self.root + '/' + c)\n",
        "            for folder in list_folder:\n",
        "                listofFiles = os.listdir(self.root + '/' + c + '/' + folder)\n",
        "                for file in listofFiles:\n",
        "                    if self.is_valid_file(self.root + '/' + c + '/' + folder + '/' + file):\n",
        "                        ListFiles.append((self.root + '/' + c + '/' + folder + '/' + file, self.list_classes.index(c)))\n",
        "        return ListFiles\n",
        "\n",
        "    def loader_fc(self, path):\n",
        "        img = np.load(path)\n",
        "        return img\n",
        "\n",
        "    def __getitem__(self, index: int):\n",
        "        path, target = self.samples[index]\n",
        "        sample = self.loader_fc(path)\n",
        "        if self.transform is not None:\n",
        "            sample = self.transform(sample)\n",
        "        return sample, target"
      ],
      "metadata": {
        "id": "FDlDkTq12-kn"
      },
      "execution_count": null,
      "outputs": []
    },
    {
      "cell_type": "code",
      "source": [
        "# Trasformazioni dei dati per i set di addestramento e di validazione\n",
        "data_transforms = {\n",
        "    'train': transforms.Compose([\n",
        "        transforms.ToTensor(),\n",
        "        transforms.RandomHorizontalFlip(),\n",
        "        transforms.RandomVerticalFlip(),\n",
        "        transforms.RandomRotation(10),           # Ruota casualmente le immagini di un angolo fino a 10 gradi\n",
        "        transforms.Resize(224),\n",
        "        transforms.Normalize([0.485, 0.456, 0.406], [0.229, 0.224, 0.225])\n",
        "    ]),\n",
        "    'val': transforms.Compose([\n",
        "        transforms.ToTensor(),\n",
        "        transforms.Resize(224),\n",
        "        transforms.Normalize([0.485, 0.456, 0.406], [0.229, 0.224, 0.225])\n",
        "    ]),\n",
        "}"
      ],
      "metadata": {
        "id": "ThB8EPdJ3GlH"
      },
      "execution_count": null,
      "outputs": []
    },
    {
      "cell_type": "code",
      "execution_count": null,
      "metadata": {
        "id": "pb64wSDJi9qx"
      },
      "outputs": [],
      "source": [
        "is_valid_file = lambda path: path.endswith('.npy')\n",
        "\n",
        "# Creaazione del dataset di addestramento e di validazione utilizzando My_DatasetFolder\n",
        "train_dataset = My_DatasetFolder(root=TRAIN_PATH, transform=data_transforms['train'], is_valid_file=is_valid_file, list_classes=['benign', 'malignant'])\n",
        "val_dataset = My_DatasetFolder(root=VAL_PATH, transform=data_transforms['val'], is_valid_file=is_valid_file, list_classes=['benign', 'malignant'])\n",
        "\n",
        "# Creazione del DataLoader per i set di addestramento e di validazione\n",
        "train_dataloader = DataLoader(train_dataset, batch_size=batch_size, shuffle=True, num_workers=2, pin_memory=True)\n",
        "val_dataloader = DataLoader(val_dataset, batch_size=batch_size, shuffle=True, num_workers=2, pin_memory=True)"
      ]
    },
    {
      "cell_type": "code",
      "source": [
        "# Stampa della dimensione dei dataset di training e validation\n",
        "train_dataset_size = len(train_dataset)\n",
        "val_dataset_size = len(val_dataset)\n",
        "print(\"Dimensione del dataset di addestramento:\", train_dataset_size)\n",
        "print(\"Dimensione del dataset di validazione:\", val_dataset_size)"
      ],
      "metadata": {
        "id": "Q-hoJvH93DX4",
        "colab": {
          "base_uri": "https://localhost:8080/"
        },
        "outputId": "2d1c1d55-1f81-44b2-ccc0-fbbaf3e8896f"
      },
      "execution_count": null,
      "outputs": [
        {
          "output_type": "stream",
          "name": "stdout",
          "text": [
            "Dimensione del dataset di addestramento: 3669\n",
            "Dimensione del dataset di validazione: 1224\n"
          ]
        }
      ]
    },
    {
      "cell_type": "markdown",
      "metadata": {
        "id": "jnsyefREGTMJ"
      },
      "source": [
        "# Traning e Validation"
      ]
    },
    {
      "cell_type": "code",
      "execution_count": null,
      "metadata": {
        "id": "WNxyPyHiiqBh"
      },
      "outputs": [],
      "source": [
        "def train_loop_validation(train_dataloader, val_dataloader, startEpoch, numEpochs, model_conv, criterionCNN, optimizer_conv, best_acc, best_loss, best_epoca, outputPath):\n",
        "    # Cancella i file di testo esistenti, se presenti\n",
        "    train_files = ['lossTrain.txt', 'AccTrain.txt', 'lossVal.txt', 'AccVal.txt']\n",
        "    for filename in train_files:\n",
        "        filepath = os.path.join(outputPath, filename)\n",
        "        if os.path.exists(filepath):\n",
        "            os.remove(filepath)\n",
        "\n",
        "    # Training loop\n",
        "    for epoch in range(startEpoch, numEpochs + 1):\n",
        "        since = time.time()\n",
        "\n",
        "        modelLoss_train = 0.0\n",
        "        modelAcc_train = 0.0\n",
        "\n",
        "        model_conv.train()\n",
        "        totalSize = 0\n",
        "\n",
        "        # Mini-Batch Loop\n",
        "        for inputs, labels in tqdm(train_dataloader, total=len(train_dataloader), desc=f\"Epoch {epoch}/{numEpochs} - Training\"):\n",
        "            inputs = inputs.float().to(device)\n",
        "            labels = labels.view(-1, 1).float().to(device)  # Converto le label in float per la BCE e faccio reshape\n",
        "\n",
        "            optimizer_conv.zero_grad()                # Resetta i gradienti dell'ottimizzatore\n",
        "            outputs = model_conv(inputs)              # Propagazione feed-forward\n",
        "            lossCNN = criterionCNN(outputs, labels)   # Calcola la loss\n",
        "            lossCNN.backward()                        # Propagazione all'indietro\n",
        "            optimizer_conv.step()                     # Aggiorna i pesi\n",
        "\n",
        "            modelLoss_train += lossCNN.item() * inputs.size(0)    # Accumula la loss pesata per il numero di campioni\n",
        "            totalSize += inputs.size(0)                           # Aggiorna il conteggio totale dei campioni\n",
        "\n",
        "            # Predizioni sul train\n",
        "            # Applica la sigmoide e arrotonda\n",
        "            preds = torch.sigmoid(outputs).round()\n",
        "            modelAcc_train += torch.sum(preds == labels.data).item()\n",
        "\n",
        "        modelLoss_epoch_train = modelLoss_train / totalSize   # Loss media per epoca\n",
        "        modelAcc_epoch_train = modelAcc_train / totalSize     # Accuratezza media per epoca\n",
        "\n",
        "        # Validation loop\n",
        "        model_conv.eval()\n",
        "        totalSize_val = 0\n",
        "        modelLoss_val = 0.0\n",
        "        modelAcc_val = 0.0\n",
        "\n",
        "        with torch.no_grad():\n",
        "            for inputs, labels in tqdm(val_dataloader, total=len(val_dataloader), desc=f\"Epoch {epoch}/{numEpochs} - Validation\"):\n",
        "                inputs = inputs.float().to(device)\n",
        "                labels = labels.view(-1, 1).float().to(device)\n",
        "\n",
        "                outputs = model_conv(inputs)\n",
        "                lossCNN = criterionCNN(outputs, labels)\n",
        "\n",
        "                modelLoss_val += lossCNN.item() * inputs.size(0)\n",
        "                totalSize_val += inputs.size(0)\n",
        "\n",
        "                preds = torch.sigmoid(outputs).round()\n",
        "                modelAcc_val += torch.sum(preds == labels.data).item()\n",
        "\n",
        "        modelLoss_epoch_val = modelLoss_val / totalSize_val\n",
        "        modelAcc_epoch_val = modelAcc_val / totalSize_val\n",
        "        time_elapsed = time.time() - since\n",
        "\n",
        "        current_lr = optimizer_conv.param_groups[0]['lr']\n",
        "\n",
        "        print('[Epoch %d][TRAIN on %d [Loss: %.4f  ACC: %.4f]][VAL on %d [Loss: %.4f  ACC: %.4f]][TIME: %.0f m %.0f s] [LR: %.5f]'\n",
        "              % (epoch, totalSize, modelLoss_epoch_train, modelAcc_epoch_train, totalSize_val, modelLoss_epoch_val,\n",
        "                 modelAcc_epoch_val, time_elapsed // 60, time_elapsed % 60, current_lr))\n",
        "\n",
        "        # Salva il miglior modello\n",
        "        if (modelAcc_epoch_val > best_acc) or (modelAcc_epoch_val == best_acc and modelLoss_epoch_val < best_loss):\n",
        "            print('     .... Saving best weights ....')\n",
        "            best_acc = modelAcc_epoch_val\n",
        "            best_loss = modelLoss_epoch_val\n",
        "            best_epoca = epoch\n",
        "            torch.save(model_conv.state_dict(), os.path.join(outputPath, 'best_model_weights.pth'))\n",
        "\n",
        "        # Logging delle loss e dell'accuracy\n",
        "        with open(os.path.join(outputPath, 'lossTrain.txt'), \"a\") as file_object:\n",
        "            file_object.write(str(modelLoss_epoch_train) + '\\n')\n",
        "\n",
        "        with open(os.path.join(outputPath, 'AccTrain.txt'), \"a\") as file_object:\n",
        "            file_object.write(str(modelAcc_epoch_train) + '\\n')\n",
        "\n",
        "        with open(os.path.join(outputPath, 'lossVal.txt'), \"a\") as file_object:\n",
        "            file_object.write(str(modelLoss_epoch_val) + '\\n')\n",
        "\n",
        "        with open(os.path.join(outputPath, 'AccVal.txt'), \"a\") as file_object:\n",
        "            file_object.write(str(modelAcc_epoch_val) + '\\n')\n",
        "\n",
        "        sio.savemat(os.path.join(outputPath, 'check_point.mat'), {'best_acc': best_acc,\n",
        "                                                                  'best_loss': best_loss,\n",
        "                                                                  'best_epoca': best_epoca,\n",
        "                                                                  'last_epoch': epoch})\n",
        "\n",
        "    return best_epoca"
      ]
    },
    {
      "cell_type": "code",
      "execution_count": null,
      "metadata": {
        "colab": {
          "base_uri": "https://localhost:8080/"
        },
        "id": "lVPKMNU_v7B5",
        "outputId": "d901e870-f708-41a8-aeb1-a75a4cfd111d"
      },
      "outputs": [
        {
          "output_type": "stream",
          "name": "stdout",
          "text": [
            "----------------------------------------------------------------\n",
            "        Layer (type)               Output Shape         Param #\n",
            "================================================================\n",
            "            Conv2d-1         [-1, 64, 112, 112]           9,408\n",
            "       BatchNorm2d-2         [-1, 64, 112, 112]             128\n",
            "              ReLU-3         [-1, 64, 112, 112]               0\n",
            "         MaxPool2d-4           [-1, 64, 56, 56]               0\n",
            "            Conv2d-5           [-1, 64, 56, 56]           4,096\n",
            "       BatchNorm2d-6           [-1, 64, 56, 56]             128\n",
            "              ReLU-7           [-1, 64, 56, 56]               0\n",
            "            Conv2d-8           [-1, 64, 56, 56]          36,864\n",
            "       BatchNorm2d-9           [-1, 64, 56, 56]             128\n",
            "             ReLU-10           [-1, 64, 56, 56]               0\n",
            "           Conv2d-11          [-1, 256, 56, 56]          16,384\n",
            "      BatchNorm2d-12          [-1, 256, 56, 56]             512\n",
            "           Conv2d-13          [-1, 256, 56, 56]          16,384\n",
            "      BatchNorm2d-14          [-1, 256, 56, 56]             512\n",
            "             ReLU-15          [-1, 256, 56, 56]               0\n",
            "       Bottleneck-16          [-1, 256, 56, 56]               0\n",
            "           Conv2d-17           [-1, 64, 56, 56]          16,384\n",
            "      BatchNorm2d-18           [-1, 64, 56, 56]             128\n",
            "             ReLU-19           [-1, 64, 56, 56]               0\n",
            "           Conv2d-20           [-1, 64, 56, 56]          36,864\n",
            "      BatchNorm2d-21           [-1, 64, 56, 56]             128\n",
            "             ReLU-22           [-1, 64, 56, 56]               0\n",
            "           Conv2d-23          [-1, 256, 56, 56]          16,384\n",
            "      BatchNorm2d-24          [-1, 256, 56, 56]             512\n",
            "             ReLU-25          [-1, 256, 56, 56]               0\n",
            "       Bottleneck-26          [-1, 256, 56, 56]               0\n",
            "           Conv2d-27           [-1, 64, 56, 56]          16,384\n",
            "      BatchNorm2d-28           [-1, 64, 56, 56]             128\n",
            "             ReLU-29           [-1, 64, 56, 56]               0\n",
            "           Conv2d-30           [-1, 64, 56, 56]          36,864\n",
            "      BatchNorm2d-31           [-1, 64, 56, 56]             128\n",
            "             ReLU-32           [-1, 64, 56, 56]               0\n",
            "           Conv2d-33          [-1, 256, 56, 56]          16,384\n",
            "      BatchNorm2d-34          [-1, 256, 56, 56]             512\n",
            "             ReLU-35          [-1, 256, 56, 56]               0\n",
            "       Bottleneck-36          [-1, 256, 56, 56]               0\n",
            "           Conv2d-37          [-1, 128, 56, 56]          32,768\n",
            "      BatchNorm2d-38          [-1, 128, 56, 56]             256\n",
            "             ReLU-39          [-1, 128, 56, 56]               0\n",
            "           Conv2d-40          [-1, 128, 28, 28]         147,456\n",
            "      BatchNorm2d-41          [-1, 128, 28, 28]             256\n",
            "             ReLU-42          [-1, 128, 28, 28]               0\n",
            "           Conv2d-43          [-1, 512, 28, 28]          65,536\n",
            "      BatchNorm2d-44          [-1, 512, 28, 28]           1,024\n",
            "           Conv2d-45          [-1, 512, 28, 28]         131,072\n",
            "      BatchNorm2d-46          [-1, 512, 28, 28]           1,024\n",
            "             ReLU-47          [-1, 512, 28, 28]               0\n",
            "       Bottleneck-48          [-1, 512, 28, 28]               0\n",
            "           Conv2d-49          [-1, 128, 28, 28]          65,536\n",
            "      BatchNorm2d-50          [-1, 128, 28, 28]             256\n",
            "             ReLU-51          [-1, 128, 28, 28]               0\n",
            "           Conv2d-52          [-1, 128, 28, 28]         147,456\n",
            "      BatchNorm2d-53          [-1, 128, 28, 28]             256\n",
            "             ReLU-54          [-1, 128, 28, 28]               0\n",
            "           Conv2d-55          [-1, 512, 28, 28]          65,536\n",
            "      BatchNorm2d-56          [-1, 512, 28, 28]           1,024\n",
            "             ReLU-57          [-1, 512, 28, 28]               0\n",
            "       Bottleneck-58          [-1, 512, 28, 28]               0\n",
            "           Conv2d-59          [-1, 128, 28, 28]          65,536\n",
            "      BatchNorm2d-60          [-1, 128, 28, 28]             256\n",
            "             ReLU-61          [-1, 128, 28, 28]               0\n",
            "           Conv2d-62          [-1, 128, 28, 28]         147,456\n",
            "      BatchNorm2d-63          [-1, 128, 28, 28]             256\n",
            "             ReLU-64          [-1, 128, 28, 28]               0\n",
            "           Conv2d-65          [-1, 512, 28, 28]          65,536\n",
            "      BatchNorm2d-66          [-1, 512, 28, 28]           1,024\n",
            "             ReLU-67          [-1, 512, 28, 28]               0\n",
            "       Bottleneck-68          [-1, 512, 28, 28]               0\n",
            "           Conv2d-69          [-1, 128, 28, 28]          65,536\n",
            "      BatchNorm2d-70          [-1, 128, 28, 28]             256\n",
            "             ReLU-71          [-1, 128, 28, 28]               0\n",
            "           Conv2d-72          [-1, 128, 28, 28]         147,456\n",
            "      BatchNorm2d-73          [-1, 128, 28, 28]             256\n",
            "             ReLU-74          [-1, 128, 28, 28]               0\n",
            "           Conv2d-75          [-1, 512, 28, 28]          65,536\n",
            "      BatchNorm2d-76          [-1, 512, 28, 28]           1,024\n",
            "             ReLU-77          [-1, 512, 28, 28]               0\n",
            "       Bottleneck-78          [-1, 512, 28, 28]               0\n",
            "           Conv2d-79          [-1, 256, 28, 28]         131,072\n",
            "      BatchNorm2d-80          [-1, 256, 28, 28]             512\n",
            "             ReLU-81          [-1, 256, 28, 28]               0\n",
            "           Conv2d-82          [-1, 256, 14, 14]         589,824\n",
            "      BatchNorm2d-83          [-1, 256, 14, 14]             512\n",
            "             ReLU-84          [-1, 256, 14, 14]               0\n",
            "           Conv2d-85         [-1, 1024, 14, 14]         262,144\n",
            "      BatchNorm2d-86         [-1, 1024, 14, 14]           2,048\n",
            "           Conv2d-87         [-1, 1024, 14, 14]         524,288\n",
            "      BatchNorm2d-88         [-1, 1024, 14, 14]           2,048\n",
            "             ReLU-89         [-1, 1024, 14, 14]               0\n",
            "       Bottleneck-90         [-1, 1024, 14, 14]               0\n",
            "           Conv2d-91          [-1, 256, 14, 14]         262,144\n",
            "      BatchNorm2d-92          [-1, 256, 14, 14]             512\n",
            "             ReLU-93          [-1, 256, 14, 14]               0\n",
            "           Conv2d-94          [-1, 256, 14, 14]         589,824\n",
            "      BatchNorm2d-95          [-1, 256, 14, 14]             512\n",
            "             ReLU-96          [-1, 256, 14, 14]               0\n",
            "           Conv2d-97         [-1, 1024, 14, 14]         262,144\n",
            "      BatchNorm2d-98         [-1, 1024, 14, 14]           2,048\n",
            "             ReLU-99         [-1, 1024, 14, 14]               0\n",
            "      Bottleneck-100         [-1, 1024, 14, 14]               0\n",
            "          Conv2d-101          [-1, 256, 14, 14]         262,144\n",
            "     BatchNorm2d-102          [-1, 256, 14, 14]             512\n",
            "            ReLU-103          [-1, 256, 14, 14]               0\n",
            "          Conv2d-104          [-1, 256, 14, 14]         589,824\n",
            "     BatchNorm2d-105          [-1, 256, 14, 14]             512\n",
            "            ReLU-106          [-1, 256, 14, 14]               0\n",
            "          Conv2d-107         [-1, 1024, 14, 14]         262,144\n",
            "     BatchNorm2d-108         [-1, 1024, 14, 14]           2,048\n",
            "            ReLU-109         [-1, 1024, 14, 14]               0\n",
            "      Bottleneck-110         [-1, 1024, 14, 14]               0\n",
            "          Conv2d-111          [-1, 256, 14, 14]         262,144\n",
            "     BatchNorm2d-112          [-1, 256, 14, 14]             512\n",
            "            ReLU-113          [-1, 256, 14, 14]               0\n",
            "          Conv2d-114          [-1, 256, 14, 14]         589,824\n",
            "     BatchNorm2d-115          [-1, 256, 14, 14]             512\n",
            "            ReLU-116          [-1, 256, 14, 14]               0\n",
            "          Conv2d-117         [-1, 1024, 14, 14]         262,144\n",
            "     BatchNorm2d-118         [-1, 1024, 14, 14]           2,048\n",
            "            ReLU-119         [-1, 1024, 14, 14]               0\n",
            "      Bottleneck-120         [-1, 1024, 14, 14]               0\n",
            "          Conv2d-121          [-1, 256, 14, 14]         262,144\n",
            "     BatchNorm2d-122          [-1, 256, 14, 14]             512\n",
            "            ReLU-123          [-1, 256, 14, 14]               0\n",
            "          Conv2d-124          [-1, 256, 14, 14]         589,824\n",
            "     BatchNorm2d-125          [-1, 256, 14, 14]             512\n",
            "            ReLU-126          [-1, 256, 14, 14]               0\n",
            "          Conv2d-127         [-1, 1024, 14, 14]         262,144\n",
            "     BatchNorm2d-128         [-1, 1024, 14, 14]           2,048\n",
            "            ReLU-129         [-1, 1024, 14, 14]               0\n",
            "      Bottleneck-130         [-1, 1024, 14, 14]               0\n",
            "          Conv2d-131          [-1, 256, 14, 14]         262,144\n",
            "     BatchNorm2d-132          [-1, 256, 14, 14]             512\n",
            "            ReLU-133          [-1, 256, 14, 14]               0\n",
            "          Conv2d-134          [-1, 256, 14, 14]         589,824\n",
            "     BatchNorm2d-135          [-1, 256, 14, 14]             512\n",
            "            ReLU-136          [-1, 256, 14, 14]               0\n",
            "          Conv2d-137         [-1, 1024, 14, 14]         262,144\n",
            "     BatchNorm2d-138         [-1, 1024, 14, 14]           2,048\n",
            "            ReLU-139         [-1, 1024, 14, 14]               0\n",
            "      Bottleneck-140         [-1, 1024, 14, 14]               0\n",
            "          Conv2d-141          [-1, 512, 14, 14]         524,288\n",
            "     BatchNorm2d-142          [-1, 512, 14, 14]           1,024\n",
            "            ReLU-143          [-1, 512, 14, 14]               0\n",
            "          Conv2d-144            [-1, 512, 7, 7]       2,359,296\n",
            "     BatchNorm2d-145            [-1, 512, 7, 7]           1,024\n",
            "            ReLU-146            [-1, 512, 7, 7]               0\n",
            "          Conv2d-147           [-1, 2048, 7, 7]       1,048,576\n",
            "     BatchNorm2d-148           [-1, 2048, 7, 7]           4,096\n",
            "          Conv2d-149           [-1, 2048, 7, 7]       2,097,152\n",
            "     BatchNorm2d-150           [-1, 2048, 7, 7]           4,096\n",
            "            ReLU-151           [-1, 2048, 7, 7]               0\n",
            "      Bottleneck-152           [-1, 2048, 7, 7]               0\n",
            "          Conv2d-153            [-1, 512, 7, 7]       1,048,576\n",
            "     BatchNorm2d-154            [-1, 512, 7, 7]           1,024\n",
            "            ReLU-155            [-1, 512, 7, 7]               0\n",
            "          Conv2d-156            [-1, 512, 7, 7]       2,359,296\n",
            "     BatchNorm2d-157            [-1, 512, 7, 7]           1,024\n",
            "            ReLU-158            [-1, 512, 7, 7]               0\n",
            "          Conv2d-159           [-1, 2048, 7, 7]       1,048,576\n",
            "     BatchNorm2d-160           [-1, 2048, 7, 7]           4,096\n",
            "            ReLU-161           [-1, 2048, 7, 7]               0\n",
            "      Bottleneck-162           [-1, 2048, 7, 7]               0\n",
            "          Conv2d-163            [-1, 512, 7, 7]       1,048,576\n",
            "     BatchNorm2d-164            [-1, 512, 7, 7]           1,024\n",
            "            ReLU-165            [-1, 512, 7, 7]               0\n",
            "          Conv2d-166            [-1, 512, 7, 7]       2,359,296\n",
            "     BatchNorm2d-167            [-1, 512, 7, 7]           1,024\n",
            "            ReLU-168            [-1, 512, 7, 7]               0\n",
            "          Conv2d-169           [-1, 2048, 7, 7]       1,048,576\n",
            "     BatchNorm2d-170           [-1, 2048, 7, 7]           4,096\n",
            "            ReLU-171           [-1, 2048, 7, 7]               0\n",
            "      Bottleneck-172           [-1, 2048, 7, 7]               0\n",
            "AdaptiveAvgPool2d-173           [-1, 2048, 1, 1]               0\n",
            "          Linear-174                 [-1, 1000]       2,049,000\n",
            "================================================================\n",
            "Total params: 25,557,032\n",
            "Trainable params: 25,557,032\n",
            "Non-trainable params: 0\n",
            "----------------------------------------------------------------\n",
            "Input size (MB): 0.57\n",
            "Forward/backward pass size (MB): 286.56\n",
            "Params size (MB): 97.49\n",
            "Estimated Total Size (MB): 384.62\n",
            "----------------------------------------------------------------\n"
          ]
        }
      ],
      "source": [
        "# Definisce il modello\n",
        "model_conv = models.resnet50(pretrained=True).cuda()\n",
        "\n",
        "# Stampa il summary del modello\n",
        "summary(model_conv, input_size=(3, 224, 224))"
      ]
    },
    {
      "cell_type": "code",
      "source": [
        "# Iperparametri\n",
        "learning_rate = 0.001\n",
        "num_epochs = 30\n",
        "startEpoch = 1\n",
        "best_acc = 0.0\n",
        "best_loss = float('inf')\n",
        "best_epoch = -1\n",
        "\n",
        "# Ridefinizione del modello per evitare sovrascrizioni al nuovo lancio\n",
        "model_conv = models.resnet50(pretrained=True).cuda()\n",
        "\n",
        "# Sostituire l'ultimo layer per la classificazione binaria\n",
        "num_ftrs = model_conv.fc.in_features\n",
        "model_conv.fc = nn.Linear(num_ftrs, 1).cuda()\n",
        "\n",
        "# Congela solo i parametri dei primi blocchi del modello\n",
        "for name, param in model_conv.named_parameters():\n",
        "    if 'layer4' not in name and 'layer3' not in name and 'fc' not in name:\n",
        "        param.requires_grad = False\n",
        "\n",
        "# Definire criterio e ottimizzatore\n",
        "criterionCNN = nn.BCEWithLogitsLoss().cuda()\n",
        "optimizer_conv = optim.Adam(filter(lambda p: p.requires_grad, model_conv.parameters()), lr=learning_rate)"
      ],
      "metadata": {
        "id": "EErGdQ2s_N1c"
      },
      "execution_count": null,
      "outputs": []
    },
    {
      "cell_type": "code",
      "execution_count": null,
      "metadata": {
        "colab": {
          "base_uri": "https://localhost:8080/"
        },
        "id": "gDvuzCvg0s1l",
        "outputId": "a5314ff3-3add-4afd-a92d-71722d8deef2"
      },
      "outputs": [
        {
          "output_type": "stream",
          "name": "stderr",
          "text": [
            "Epoch 1/30 - Training: 100%|██████████| 115/115 [00:34<00:00,  3.34it/s]\n",
            "Epoch 1/30 - Validation: 100%|██████████| 39/39 [00:09<00:00,  4.17it/s]\n"
          ]
        },
        {
          "output_type": "stream",
          "name": "stdout",
          "text": [
            "[Epoch 1][TRAIN on 3669 [Loss: 0.3524  ACC: 0.8591]][VAL on 1224 [Loss: 0.4313  ACC: 0.8538]][TIME: 0 m 44 s] [LR: 0.00100]\n",
            "     .... Saving best weights ....\n"
          ]
        },
        {
          "output_type": "stream",
          "name": "stderr",
          "text": [
            "Epoch 2/30 - Training: 100%|██████████| 115/115 [00:32<00:00,  3.51it/s]\n",
            "Epoch 2/30 - Validation: 100%|██████████| 39/39 [00:07<00:00,  5.33it/s]\n"
          ]
        },
        {
          "output_type": "stream",
          "name": "stdout",
          "text": [
            "[Epoch 2][TRAIN on 3669 [Loss: 0.2635  ACC: 0.9005]][VAL on 1224 [Loss: 0.2155  ACC: 0.9191]][TIME: 0 m 40 s] [LR: 0.00100]\n",
            "     .... Saving best weights ....\n"
          ]
        },
        {
          "output_type": "stream",
          "name": "stderr",
          "text": [
            "Epoch 3/30 - Training: 100%|██████████| 115/115 [00:32<00:00,  3.49it/s]\n",
            "Epoch 3/30 - Validation: 100%|██████████| 39/39 [00:09<00:00,  4.26it/s]\n"
          ]
        },
        {
          "output_type": "stream",
          "name": "stdout",
          "text": [
            "[Epoch 3][TRAIN on 3669 [Loss: 0.2210  ACC: 0.9139]][VAL on 1224 [Loss: 0.3264  ACC: 0.8824]][TIME: 0 m 42 s] [LR: 0.00100]\n"
          ]
        },
        {
          "output_type": "stream",
          "name": "stderr",
          "text": [
            "Epoch 4/30 - Training: 100%|██████████| 115/115 [00:32<00:00,  3.52it/s]\n",
            "Epoch 4/30 - Validation: 100%|██████████| 39/39 [00:08<00:00,  4.72it/s]\n"
          ]
        },
        {
          "output_type": "stream",
          "name": "stdout",
          "text": [
            "[Epoch 4][TRAIN on 3669 [Loss: 0.1988  ACC: 0.9193]][VAL on 1224 [Loss: 0.2317  ACC: 0.9093]][TIME: 0 m 41 s] [LR: 0.00100]\n"
          ]
        },
        {
          "output_type": "stream",
          "name": "stderr",
          "text": [
            "Epoch 5/30 - Training: 100%|██████████| 115/115 [00:33<00:00,  3.44it/s]\n",
            "Epoch 5/30 - Validation: 100%|██████████| 39/39 [00:08<00:00,  4.71it/s]\n"
          ]
        },
        {
          "output_type": "stream",
          "name": "stdout",
          "text": [
            "[Epoch 5][TRAIN on 3669 [Loss: 0.1900  ACC: 0.9240]][VAL on 1224 [Loss: 0.1928  ACC: 0.9306]][TIME: 0 m 42 s] [LR: 0.00100]\n",
            "     .... Saving best weights ....\n"
          ]
        },
        {
          "output_type": "stream",
          "name": "stderr",
          "text": [
            "Epoch 6/30 - Training: 100%|██████████| 115/115 [00:33<00:00,  3.46it/s]\n",
            "Epoch 6/30 - Validation: 100%|██████████| 39/39 [00:09<00:00,  4.17it/s]\n"
          ]
        },
        {
          "output_type": "stream",
          "name": "stdout",
          "text": [
            "[Epoch 6][TRAIN on 3669 [Loss: 0.1653  ACC: 0.9324]][VAL on 1224 [Loss: 0.2117  ACC: 0.9265]][TIME: 0 m 43 s] [LR: 0.00100]\n"
          ]
        },
        {
          "output_type": "stream",
          "name": "stderr",
          "text": [
            "Epoch 7/30 - Training: 100%|██████████| 115/115 [00:34<00:00,  3.29it/s]\n",
            "Epoch 7/30 - Validation: 100%|██████████| 39/39 [00:07<00:00,  5.22it/s]\n"
          ]
        },
        {
          "output_type": "stream",
          "name": "stdout",
          "text": [
            "[Epoch 7][TRAIN on 3669 [Loss: 0.1559  ACC: 0.9422]][VAL on 1224 [Loss: 0.1693  ACC: 0.9355]][TIME: 0 m 42 s] [LR: 0.00100]\n",
            "     .... Saving best weights ....\n"
          ]
        },
        {
          "output_type": "stream",
          "name": "stderr",
          "text": [
            "Epoch 8/30 - Training: 100%|██████████| 115/115 [00:33<00:00,  3.43it/s]\n",
            "Epoch 8/30 - Validation: 100%|██████████| 39/39 [00:09<00:00,  4.30it/s]\n"
          ]
        },
        {
          "output_type": "stream",
          "name": "stdout",
          "text": [
            "[Epoch 8][TRAIN on 3669 [Loss: 0.1471  ACC: 0.9414]][VAL on 1224 [Loss: 0.1808  ACC: 0.9314]][TIME: 0 m 43 s] [LR: 0.00100]\n"
          ]
        },
        {
          "output_type": "stream",
          "name": "stderr",
          "text": [
            "Epoch 9/30 - Training: 100%|██████████| 115/115 [00:32<00:00,  3.50it/s]\n",
            "Epoch 9/30 - Validation: 100%|██████████| 39/39 [00:08<00:00,  4.52it/s]\n"
          ]
        },
        {
          "output_type": "stream",
          "name": "stdout",
          "text": [
            "[Epoch 9][TRAIN on 3669 [Loss: 0.1382  ACC: 0.9490]][VAL on 1224 [Loss: 0.1395  ACC: 0.9493]][TIME: 0 m 42 s] [LR: 0.00100]\n",
            "     .... Saving best weights ....\n"
          ]
        },
        {
          "output_type": "stream",
          "name": "stderr",
          "text": [
            "Epoch 10/30 - Training: 100%|██████████| 115/115 [00:32<00:00,  3.55it/s]\n",
            "Epoch 10/30 - Validation: 100%|██████████| 39/39 [00:07<00:00,  5.31it/s]\n"
          ]
        },
        {
          "output_type": "stream",
          "name": "stdout",
          "text": [
            "[Epoch 10][TRAIN on 3669 [Loss: 0.1256  ACC: 0.9493]][VAL on 1224 [Loss: 0.1578  ACC: 0.9371]][TIME: 0 m 40 s] [LR: 0.00100]\n"
          ]
        },
        {
          "output_type": "stream",
          "name": "stderr",
          "text": [
            "Epoch 11/30 - Training: 100%|██████████| 115/115 [00:32<00:00,  3.54it/s]\n",
            "Epoch 11/30 - Validation: 100%|██████████| 39/39 [00:09<00:00,  4.33it/s]\n"
          ]
        },
        {
          "output_type": "stream",
          "name": "stdout",
          "text": [
            "[Epoch 11][TRAIN on 3669 [Loss: 0.1277  ACC: 0.9528]][VAL on 1224 [Loss: 0.1549  ACC: 0.9412]][TIME: 0 m 42 s] [LR: 0.00100]\n"
          ]
        },
        {
          "output_type": "stream",
          "name": "stderr",
          "text": [
            "Epoch 12/30 - Training: 100%|██████████| 115/115 [00:33<00:00,  3.47it/s]\n",
            "Epoch 12/30 - Validation: 100%|██████████| 39/39 [00:09<00:00,  4.04it/s]\n"
          ]
        },
        {
          "output_type": "stream",
          "name": "stdout",
          "text": [
            "[Epoch 12][TRAIN on 3669 [Loss: 0.1278  ACC: 0.9528]][VAL on 1224 [Loss: 0.1577  ACC: 0.9379]][TIME: 0 m 43 s] [LR: 0.00100]\n"
          ]
        },
        {
          "output_type": "stream",
          "name": "stderr",
          "text": [
            "Epoch 13/30 - Training: 100%|██████████| 115/115 [00:33<00:00,  3.48it/s]\n",
            "Epoch 13/30 - Validation: 100%|██████████| 39/39 [00:08<00:00,  4.44it/s]\n"
          ]
        },
        {
          "output_type": "stream",
          "name": "stdout",
          "text": [
            "[Epoch 13][TRAIN on 3669 [Loss: 0.1086  ACC: 0.9605]][VAL on 1224 [Loss: 0.1166  ACC: 0.9485]][TIME: 0 m 42 s] [LR: 0.00100]\n"
          ]
        },
        {
          "output_type": "stream",
          "name": "stderr",
          "text": [
            "Epoch 14/30 - Training: 100%|██████████| 115/115 [00:32<00:00,  3.53it/s]\n",
            "Epoch 14/30 - Validation: 100%|██████████| 39/39 [00:08<00:00,  4.33it/s]\n"
          ]
        },
        {
          "output_type": "stream",
          "name": "stdout",
          "text": [
            "[Epoch 14][TRAIN on 3669 [Loss: 0.1214  ACC: 0.9548]][VAL on 1224 [Loss: 0.1266  ACC: 0.9518]][TIME: 0 m 42 s] [LR: 0.00100]\n",
            "     .... Saving best weights ....\n"
          ]
        },
        {
          "output_type": "stream",
          "name": "stderr",
          "text": [
            "Epoch 15/30 - Training: 100%|██████████| 115/115 [00:33<00:00,  3.39it/s]\n",
            "Epoch 15/30 - Validation: 100%|██████████| 39/39 [00:07<00:00,  5.35it/s]\n"
          ]
        },
        {
          "output_type": "stream",
          "name": "stdout",
          "text": [
            "[Epoch 15][TRAIN on 3669 [Loss: 0.1060  ACC: 0.9621]][VAL on 1224 [Loss: 0.1568  ACC: 0.9428]][TIME: 0 m 41 s] [LR: 0.00100]\n"
          ]
        },
        {
          "output_type": "stream",
          "name": "stderr",
          "text": [
            "Epoch 16/30 - Training: 100%|██████████| 115/115 [00:32<00:00,  3.54it/s]\n",
            "Epoch 16/30 - Validation: 100%|██████████| 39/39 [00:09<00:00,  4.12it/s]\n"
          ]
        },
        {
          "output_type": "stream",
          "name": "stdout",
          "text": [
            "[Epoch 16][TRAIN on 3669 [Loss: 0.0942  ACC: 0.9667]][VAL on 1224 [Loss: 0.1649  ACC: 0.9412]][TIME: 0 m 42 s] [LR: 0.00100]\n"
          ]
        },
        {
          "output_type": "stream",
          "name": "stderr",
          "text": [
            "Epoch 17/30 - Training: 100%|██████████| 115/115 [00:32<00:00,  3.52it/s]\n",
            "Epoch 17/30 - Validation: 100%|██████████| 39/39 [00:07<00:00,  5.14it/s]\n"
          ]
        },
        {
          "output_type": "stream",
          "name": "stdout",
          "text": [
            "[Epoch 17][TRAIN on 3669 [Loss: 0.0904  ACC: 0.9635]][VAL on 1224 [Loss: 0.1320  ACC: 0.9404]][TIME: 0 m 40 s] [LR: 0.00100]\n"
          ]
        },
        {
          "output_type": "stream",
          "name": "stderr",
          "text": [
            "Epoch 18/30 - Training: 100%|██████████| 115/115 [00:32<00:00,  3.50it/s]\n",
            "Epoch 18/30 - Validation: 100%|██████████| 39/39 [00:11<00:00,  3.45it/s]\n"
          ]
        },
        {
          "output_type": "stream",
          "name": "stdout",
          "text": [
            "[Epoch 18][TRAIN on 3669 [Loss: 0.0896  ACC: 0.9681]][VAL on 1224 [Loss: 0.1642  ACC: 0.9379]][TIME: 0 m 44 s] [LR: 0.00100]\n"
          ]
        },
        {
          "output_type": "stream",
          "name": "stderr",
          "text": [
            "Epoch 19/30 - Training: 100%|██████████| 115/115 [00:33<00:00,  3.46it/s]\n",
            "Epoch 19/30 - Validation: 100%|██████████| 39/39 [00:07<00:00,  4.90it/s]\n"
          ]
        },
        {
          "output_type": "stream",
          "name": "stdout",
          "text": [
            "[Epoch 19][TRAIN on 3669 [Loss: 0.0935  ACC: 0.9643]][VAL on 1224 [Loss: 0.1331  ACC: 0.9453]][TIME: 0 m 41 s] [LR: 0.00100]\n"
          ]
        },
        {
          "output_type": "stream",
          "name": "stderr",
          "text": [
            "Epoch 20/30 - Training: 100%|██████████| 115/115 [00:33<00:00,  3.47it/s]\n",
            "Epoch 20/30 - Validation: 100%|██████████| 39/39 [00:08<00:00,  4.48it/s]\n"
          ]
        },
        {
          "output_type": "stream",
          "name": "stdout",
          "text": [
            "[Epoch 20][TRAIN on 3669 [Loss: 0.0972  ACC: 0.9646]][VAL on 1224 [Loss: 0.1395  ACC: 0.9534]][TIME: 0 m 42 s] [LR: 0.00100]\n",
            "     .... Saving best weights ....\n"
          ]
        },
        {
          "output_type": "stream",
          "name": "stderr",
          "text": [
            "Epoch 21/30 - Training: 100%|██████████| 115/115 [00:33<00:00,  3.43it/s]\n",
            "Epoch 21/30 - Validation: 100%|██████████| 39/39 [00:09<00:00,  4.11it/s]\n"
          ]
        },
        {
          "output_type": "stream",
          "name": "stdout",
          "text": [
            "[Epoch 21][TRAIN on 3669 [Loss: 0.0786  ACC: 0.9719]][VAL on 1224 [Loss: 0.1140  ACC: 0.9567]][TIME: 0 m 43 s] [LR: 0.00100]\n",
            "     .... Saving best weights ....\n"
          ]
        },
        {
          "output_type": "stream",
          "name": "stderr",
          "text": [
            "Epoch 22/30 - Training: 100%|██████████| 115/115 [00:33<00:00,  3.45it/s]\n",
            "Epoch 22/30 - Validation: 100%|██████████| 39/39 [00:07<00:00,  5.21it/s]\n"
          ]
        },
        {
          "output_type": "stream",
          "name": "stdout",
          "text": [
            "[Epoch 22][TRAIN on 3669 [Loss: 0.0808  ACC: 0.9689]][VAL on 1224 [Loss: 0.1415  ACC: 0.9485]][TIME: 0 m 41 s] [LR: 0.00100]\n"
          ]
        },
        {
          "output_type": "stream",
          "name": "stderr",
          "text": [
            "Epoch 23/30 - Training: 100%|██████████| 115/115 [00:32<00:00,  3.49it/s]\n",
            "Epoch 23/30 - Validation: 100%|██████████| 39/39 [00:09<00:00,  4.19it/s]\n"
          ]
        },
        {
          "output_type": "stream",
          "name": "stdout",
          "text": [
            "[Epoch 23][TRAIN on 3669 [Loss: 0.0791  ACC: 0.9722]][VAL on 1224 [Loss: 0.1973  ACC: 0.9158]][TIME: 0 m 42 s] [LR: 0.00100]\n"
          ]
        },
        {
          "output_type": "stream",
          "name": "stderr",
          "text": [
            "Epoch 24/30 - Training: 100%|██████████| 115/115 [00:34<00:00,  3.31it/s]\n",
            "Epoch 24/30 - Validation: 100%|██████████| 39/39 [00:07<00:00,  5.33it/s]\n"
          ]
        },
        {
          "output_type": "stream",
          "name": "stdout",
          "text": [
            "[Epoch 24][TRAIN on 3669 [Loss: 0.0778  ACC: 0.9700]][VAL on 1224 [Loss: 0.1404  ACC: 0.9510]][TIME: 0 m 42 s] [LR: 0.00100]\n"
          ]
        },
        {
          "output_type": "stream",
          "name": "stderr",
          "text": [
            "Epoch 25/30 - Training: 100%|██████████| 115/115 [00:32<00:00,  3.54it/s]\n",
            "Epoch 25/30 - Validation: 100%|██████████| 39/39 [00:09<00:00,  4.11it/s]\n"
          ]
        },
        {
          "output_type": "stream",
          "name": "stdout",
          "text": [
            "[Epoch 25][TRAIN on 3669 [Loss: 0.0701  ACC: 0.9703]][VAL on 1224 [Loss: 0.1603  ACC: 0.9346]][TIME: 0 m 42 s] [LR: 0.00100]\n"
          ]
        },
        {
          "output_type": "stream",
          "name": "stderr",
          "text": [
            "Epoch 26/30 - Training: 100%|██████████| 115/115 [00:32<00:00,  3.53it/s]\n",
            "Epoch 26/30 - Validation: 100%|██████████| 39/39 [00:07<00:00,  5.16it/s]\n"
          ]
        },
        {
          "output_type": "stream",
          "name": "stdout",
          "text": [
            "[Epoch 26][TRAIN on 3669 [Loss: 0.0770  ACC: 0.9733]][VAL on 1224 [Loss: 0.1730  ACC: 0.9404]][TIME: 0 m 40 s] [LR: 0.00100]\n"
          ]
        },
        {
          "output_type": "stream",
          "name": "stderr",
          "text": [
            "Epoch 27/30 - Training: 100%|██████████| 115/115 [00:32<00:00,  3.58it/s]\n",
            "Epoch 27/30 - Validation: 100%|██████████| 39/39 [00:09<00:00,  4.31it/s]\n"
          ]
        },
        {
          "output_type": "stream",
          "name": "stdout",
          "text": [
            "[Epoch 27][TRAIN on 3669 [Loss: 0.0668  ACC: 0.9744]][VAL on 1224 [Loss: 0.1518  ACC: 0.9559]][TIME: 0 m 41 s] [LR: 0.00100]\n"
          ]
        },
        {
          "output_type": "stream",
          "name": "stderr",
          "text": [
            "Epoch 28/30 - Training: 100%|██████████| 115/115 [00:32<00:00,  3.51it/s]\n",
            "Epoch 28/30 - Validation: 100%|██████████| 39/39 [00:08<00:00,  4.46it/s]\n"
          ]
        },
        {
          "output_type": "stream",
          "name": "stdout",
          "text": [
            "[Epoch 28][TRAIN on 3669 [Loss: 0.0684  ACC: 0.9763]][VAL on 1224 [Loss: 0.1384  ACC: 0.9493]][TIME: 0 m 42 s] [LR: 0.00100]\n"
          ]
        },
        {
          "output_type": "stream",
          "name": "stderr",
          "text": [
            "Epoch 29/30 - Training: 100%|██████████| 115/115 [00:32<00:00,  3.56it/s]\n",
            "Epoch 29/30 - Validation: 100%|██████████| 39/39 [00:07<00:00,  5.10it/s]\n"
          ]
        },
        {
          "output_type": "stream",
          "name": "stdout",
          "text": [
            "[Epoch 29][TRAIN on 3669 [Loss: 0.0667  ACC: 0.9730]][VAL on 1224 [Loss: 0.1268  ACC: 0.9534]][TIME: 0 m 40 s] [LR: 0.00100]\n"
          ]
        },
        {
          "output_type": "stream",
          "name": "stderr",
          "text": [
            "Epoch 30/30 - Training: 100%|██████████| 115/115 [00:35<00:00,  3.23it/s]\n",
            "Epoch 30/30 - Validation: 100%|██████████| 39/39 [00:09<00:00,  4.29it/s]\n"
          ]
        },
        {
          "output_type": "stream",
          "name": "stdout",
          "text": [
            "[Epoch 30][TRAIN on 3669 [Loss: 0.0675  ACC: 0.9763]][VAL on 1224 [Loss: 0.1141  ACC: 0.9624]][TIME: 0 m 45 s] [LR: 0.00100]\n",
            "     .... Saving best weights ....\n"
          ]
        }
      ],
      "source": [
        "# Chiamata alla funzione di training con validazione\n",
        "best_epoch = train_loop_validation(train_dataloader, val_dataloader, startEpoch, num_epochs, model_conv, criterionCNN, optimizer_conv, best_acc, best_loss, best_epoch, WEIGHTS_PATH)"
      ]
    },
    {
      "cell_type": "markdown",
      "metadata": {
        "id": "qHUATeFa4dSC"
      },
      "source": [
        "# Metrics Plot"
      ]
    },
    {
      "cell_type": "code",
      "execution_count": null,
      "metadata": {
        "id": "bLwHLuUC4cYf",
        "colab": {
          "base_uri": "https://localhost:8080/",
          "height": 927
        },
        "outputId": "bd629ed0-2260-4fc1-c64d-eb7af4d5c150"
      },
      "outputs": [
        {
          "output_type": "display_data",
          "data": {
            "text/plain": [
              "<Figure size 640x480 with 1 Axes>"
            ],
            "image/png": "[encoded data removed]"
          },
          "metadata": {}
        },
        {
          "output_type": "display_data",
          "data": {
            "text/plain": [
              "<Figure size 640x480 with 1 Axes>"
            ],
            "image/png": "[encoded data removed]"
          },
          "metadata": {}
        }
      ],
      "source": [
        "# Inizializzazione delle liste per le perdite e le accuratezze\n",
        "lossModel_Train = []\n",
        "lossModel_val = []\n",
        "accModel_Train = []\n",
        "accModel_val = []\n",
        "\n",
        "# Lettura dei file di perdita del training\n",
        "loss_train_path = os.path.join(WEIGHTS_PATH, 'lossTrain.txt')\n",
        "with open(loss_train_path, 'r') as file:\n",
        "    lossModel_Train = [float(line.strip()) for line in file.readlines()]\n",
        "\n",
        "# Lettura dei file di perdita della validazione\n",
        "loss_val_path = os.path.join(WEIGHTS_PATH, 'lossVal.txt')\n",
        "with open(loss_val_path, 'r') as file:\n",
        "    lossModel_val = [float(line.strip()) for line in file.readlines()]\n",
        "\n",
        "# Plot delle perdite di training e validazione\n",
        "plt.figure()\n",
        "plt.title(\"Model: Training Vs Validation Losses\")\n",
        "plt.xlabel('Epoch')\n",
        "plt.ylabel('Loss')\n",
        "plt.plot(range(1, len(lossModel_Train) + 1), lossModel_Train, color='r', label=\"Training Loss\")\n",
        "plt.plot(range(1, len(lossModel_val) + 1), lossModel_val, color='g', label=\"Validation Loss\")\n",
        "plt.legend()\n",
        "plt.savefig(os.path.join(WEIGHTS_PATH, 'LossTrainVal.png'))\n",
        "\n",
        "# Lettura dei file di accuratezza del training\n",
        "acc_train_path = os.path.join(WEIGHTS_PATH, 'AccTrain.txt')\n",
        "with open(acc_train_path, 'r') as file:\n",
        "    accModel_Train = [float(line.strip()) for line in file.readlines()]\n",
        "\n",
        "# Lettura dei file di accuratezza della validazione\n",
        "acc_val_path = os.path.join(WEIGHTS_PATH, 'AccVal.txt')\n",
        "with open(acc_val_path, 'r') as file:\n",
        "    accModel_val = [float(line.strip()) for line in file.readlines()]\n",
        "\n",
        "# Plot delle accuratezze di training e validazione\n",
        "plt.figure()\n",
        "plt.title(\"Training Vs Validation Accuracies\")\n",
        "plt.xlabel('Epoch')\n",
        "plt.ylabel('Accuracy')\n",
        "plt.plot(range(1, len(accModel_Train) + 1), accModel_Train, color='r', label=\"Training Accuracy\")\n",
        "plt.plot(range(1, len(accModel_val) + 1), accModel_val, color='g', label=\"Validation Accuracy\")\n",
        "plt.legend()\n",
        "plt.savefig(os.path.join(WEIGHTS_PATH, 'AccTrainVal.png'))"
      ]
    },
    {
      "cell_type": "markdown",
      "source": [
        "# Trasformazioni e dataloader del training finale"
      ],
      "metadata": {
        "id": "jPR-HAgOGkMY"
      }
    },
    {
      "cell_type": "code",
      "source": [
        "is_valid_file = lambda path: path.endswith('.npy')\n",
        "\n",
        "# Creaazione del dataset di addestramento e di validazione utilizzando My_DatasetFolder\n",
        "final_dataset = My_DatasetFolder(root=DATASET_PATH, transform=data_transforms['train'], is_valid_file=is_valid_file, list_classes=['benign', 'malignant'])\n",
        "\n",
        "# Creazione del DataLoader per i set di addestramento e di validazione\n",
        "final_dataloader = DataLoader(final_dataset, batch_size=batch_size, shuffle=True, num_workers=1, pin_memory=True)"
      ],
      "metadata": {
        "id": "PuR0Rkq7U978"
      },
      "execution_count": null,
      "outputs": []
    },
    {
      "cell_type": "code",
      "source": [
        "# Stampa della dimensione dei dataset di training e validation\n",
        "final_dataset_size = len(final_dataset)\n",
        "print(\"Dimensione del dataset:\", final_dataset_size)"
      ],
      "metadata": {
        "id": "n0ZBVn9T3TGI",
        "outputId": "73102888-fa1e-44c3-fc08-85ca9c8f482c",
        "colab": {
          "base_uri": "https://localhost:8080/"
        }
      },
      "execution_count": null,
      "outputs": [
        {
          "output_type": "stream",
          "name": "stdout",
          "text": [
            "Dimensione del dataset: 4893\n"
          ]
        }
      ]
    },
    {
      "cell_type": "markdown",
      "source": [
        "# Training Finale"
      ],
      "metadata": {
        "id": "fBgqMJiQU9eL"
      }
    },
    {
      "cell_type": "code",
      "source": [
        "def train_loop(train_dataloader, startEpoch, numEpochs, model_conv, criterionCNN, optimizer_conv, outputPath):\n",
        "    for epoch in range(startEpoch, numEpochs + 1):\n",
        "        since = time.time()\n",
        "\n",
        "        modelLoss_train = 0.0\n",
        "        modelAcc_train = 0.0\n",
        "\n",
        "        model_conv.train()\n",
        "        totalSize = 0\n",
        "\n",
        "        # Numero totale di batch\n",
        "        total_batches = len(train_dataloader)\n",
        "\n",
        "        # Training loop\n",
        "        for batch_idx, (inputs, labels) in enumerate(tqdm(train_dataloader, total=total_batches)):\n",
        "            inputs = inputs.float().cuda()\n",
        "            labels = labels.view(-1, 1).float().cuda()\n",
        "\n",
        "            optimizer_conv.zero_grad()\n",
        "\n",
        "            outputs = model_conv(inputs)\n",
        "            lossCNN = criterionCNN(outputs, labels)\n",
        "            lossCNN.backward()\n",
        "            optimizer_conv.step()\n",
        "\n",
        "            modelLoss_train += lossCNN.item() * inputs.size(0)\n",
        "            totalSize += inputs.size(0)\n",
        "\n",
        "            preds = torch.sigmoid(outputs).round()\n",
        "            modelAcc_train += torch.sum(preds == labels.data).item()\n",
        "\n",
        "        modelLoss_epoch_train = modelLoss_train / totalSize\n",
        "        modelAcc_epoch_train = modelAcc_train / totalSize\n",
        "\n",
        "        # Salva i pesi\n",
        "        torch.save(model_conv.state_dict(), outputPath + '/weights.pth'.format(epoch))\n",
        "\n",
        "        time_elapsed = time.time() - since\n",
        "\n",
        "        # Ottieni il learning rate\n",
        "        current_lr = optimizer_conv.param_groups[0]['lr']\n",
        "\n",
        "        print('[Epoch %d][TRAIN on %d [Loss: %.4f  ACC: %.4f]][TIME: %.0f m %.0f s] [LR: %.5f]'\n",
        "              % (epoch, totalSize, modelLoss_epoch_train, modelAcc_epoch_train, time_elapsed // 60, time_elapsed % 60, current_lr))\n",
        "\n",
        "        # Logging losses and accuracies\n",
        "        with open(outputPath + '/lossTrain.txt', \"a\") as file_object:\n",
        "            file_object.write(str(modelLoss_epoch_train) + '\\n')\n",
        "\n",
        "        with open(outputPath + '/AccTrain.txt', \"a\") as file_object:\n",
        "            file_object.write(str(modelAcc_epoch_train) + '\\n')"
      ],
      "metadata": {
        "id": "AaDn6j4wGjW4"
      },
      "execution_count": null,
      "outputs": []
    },
    {
      "cell_type": "code",
      "source": [
        "# Iperparametri aggiornati\n",
        "learning_rate = 0.001\n",
        "startEpoch = 1\n",
        "best_epoch = 21\n",
        "\n",
        "# Ridefinizione del modello per evitare sovrascrizioni\n",
        "model_conv = models.resnet50(pretrained=True).cuda()\n",
        "\n",
        "# Sostituire l'ultimo layer per la classificazione binaria\n",
        "num_ftrs = model_conv.fc.in_features\n",
        "model_conv.fc = nn.Linear(num_ftrs, 1).cuda()\n",
        "\n",
        "# Congela solo i parametri dei primi blocchi del modello\n",
        "for name, param in model_conv.named_parameters():\n",
        "    if 'layer4' not in name and 'layer3' not in name and 'fc' not in name:\n",
        "        param.requires_grad = False\n",
        "\n",
        "# Definire criterio e ottimizzatore\n",
        "criterionCNN = nn.BCEWithLogitsLoss().cuda()\n",
        "optimizer_conv = optim.Adam(filter(lambda p: p.requires_grad, model_conv.parameters()), lr=learning_rate)"
      ],
      "metadata": {
        "id": "IpkYZrJzub_X"
      },
      "execution_count": null,
      "outputs": []
    },
    {
      "cell_type": "code",
      "source": [
        "train_loop(final_dataloader, startEpoch, best_epoch, model_conv, criterionCNN, optimizer_conv, FINAL_WEIGHTS_PATH)"
      ],
      "metadata": {
        "id": "fZO2xa_n2Vrw",
        "colab": {
          "base_uri": "https://localhost:8080/"
        },
        "outputId": "2d809f65-c686-44f6-c0fa-54b6372fcc38"
      },
      "execution_count": null,
      "outputs": [
        {
          "output_type": "stream",
          "name": "stderr",
          "text": [
            "100%|██████████| 153/153 [28:17<00:00, 11.10s/it]\n"
          ]
        },
        {
          "output_type": "stream",
          "name": "stdout",
          "text": [
            "[Epoch 1][TRAIN on 4893 [Loss: 0.3289  ACC: 0.8731]][TIME: 28 m 24 s] [LR: 0.00100]\n"
          ]
        },
        {
          "output_type": "stream",
          "name": "stderr",
          "text": [
            "100%|██████████| 153/153 [00:49<00:00,  3.08it/s]\n"
          ]
        },
        {
          "output_type": "stream",
          "name": "stdout",
          "text": [
            "[Epoch 2][TRAIN on 4893 [Loss: 0.2363  ACC: 0.9080]][TIME: 0 m 50 s] [LR: 0.00100]\n"
          ]
        },
        {
          "output_type": "stream",
          "name": "stderr",
          "text": [
            "100%|██████████| 153/153 [00:49<00:00,  3.12it/s]\n"
          ]
        },
        {
          "output_type": "stream",
          "name": "stdout",
          "text": [
            "[Epoch 3][TRAIN on 4893 [Loss: 0.2050  ACC: 0.9183]][TIME: 0 m 49 s] [LR: 0.00100]\n"
          ]
        },
        {
          "output_type": "stream",
          "name": "stderr",
          "text": [
            "100%|██████████| 153/153 [00:51<00:00,  3.00it/s]\n"
          ]
        },
        {
          "output_type": "stream",
          "name": "stdout",
          "text": [
            "[Epoch 4][TRAIN on 4893 [Loss: 0.1645  ACC: 0.9403]][TIME: 0 m 51 s] [LR: 0.00100]\n"
          ]
        },
        {
          "output_type": "stream",
          "name": "stderr",
          "text": [
            "100%|██████████| 153/153 [00:50<00:00,  3.01it/s]\n"
          ]
        },
        {
          "output_type": "stream",
          "name": "stdout",
          "text": [
            "[Epoch 5][TRAIN on 4893 [Loss: 0.1534  ACC: 0.9413]][TIME: 0 m 51 s] [LR: 0.00100]\n"
          ]
        },
        {
          "output_type": "stream",
          "name": "stderr",
          "text": [
            "100%|██████████| 153/153 [00:50<00:00,  3.02it/s]\n"
          ]
        },
        {
          "output_type": "stream",
          "name": "stdout",
          "text": [
            "[Epoch 6][TRAIN on 4893 [Loss: 0.1450  ACC: 0.9432]][TIME: 0 m 51 s] [LR: 0.00100]\n"
          ]
        },
        {
          "output_type": "stream",
          "name": "stderr",
          "text": [
            "100%|██████████| 153/153 [00:58<00:00,  2.62it/s]\n"
          ]
        },
        {
          "output_type": "stream",
          "name": "stdout",
          "text": [
            "[Epoch 7][TRAIN on 4893 [Loss: 0.1286  ACC: 0.9510]][TIME: 0 m 59 s] [LR: 0.00100]\n"
          ]
        },
        {
          "output_type": "stream",
          "name": "stderr",
          "text": [
            "100%|██████████| 153/153 [00:48<00:00,  3.18it/s]\n"
          ]
        },
        {
          "output_type": "stream",
          "name": "stdout",
          "text": [
            "[Epoch 8][TRAIN on 4893 [Loss: 0.1221  ACC: 0.9524]][TIME: 0 m 48 s] [LR: 0.00100]\n"
          ]
        },
        {
          "output_type": "stream",
          "name": "stderr",
          "text": [
            "100%|██████████| 153/153 [00:49<00:00,  3.11it/s]\n"
          ]
        },
        {
          "output_type": "stream",
          "name": "stdout",
          "text": [
            "[Epoch 9][TRAIN on 4893 [Loss: 0.1142  ACC: 0.9579]][TIME: 0 m 50 s] [LR: 0.00100]\n"
          ]
        },
        {
          "output_type": "stream",
          "name": "stderr",
          "text": [
            "100%|██████████| 153/153 [00:55<00:00,  2.75it/s]\n"
          ]
        },
        {
          "output_type": "stream",
          "name": "stdout",
          "text": [
            "[Epoch 10][TRAIN on 4893 [Loss: 0.0990  ACC: 0.9644]][TIME: 0 m 56 s] [LR: 0.00100]\n"
          ]
        },
        {
          "output_type": "stream",
          "name": "stderr",
          "text": [
            "100%|██████████| 153/153 [00:50<00:00,  3.02it/s]\n"
          ]
        },
        {
          "output_type": "stream",
          "name": "stdout",
          "text": [
            "[Epoch 11][TRAIN on 4893 [Loss: 0.0977  ACC: 0.9630]][TIME: 0 m 51 s] [LR: 0.00100]\n"
          ]
        },
        {
          "output_type": "stream",
          "name": "stderr",
          "text": [
            "100%|██████████| 153/153 [00:52<00:00,  2.93it/s]\n"
          ]
        },
        {
          "output_type": "stream",
          "name": "stdout",
          "text": [
            "[Epoch 12][TRAIN on 4893 [Loss: 0.0914  ACC: 0.9628]][TIME: 0 m 53 s] [LR: 0.00100]\n"
          ]
        },
        {
          "output_type": "stream",
          "name": "stderr",
          "text": [
            "100%|██████████| 153/153 [00:50<00:00,  3.01it/s]\n"
          ]
        },
        {
          "output_type": "stream",
          "name": "stdout",
          "text": [
            "[Epoch 13][TRAIN on 4893 [Loss: 0.0834  ACC: 0.9681]][TIME: 0 m 51 s] [LR: 0.00100]\n"
          ]
        },
        {
          "output_type": "stream",
          "name": "stderr",
          "text": [
            "100%|██████████| 153/153 [00:54<00:00,  2.80it/s]\n"
          ]
        },
        {
          "output_type": "stream",
          "name": "stdout",
          "text": [
            "[Epoch 14][TRAIN on 4893 [Loss: 0.0853  ACC: 0.9679]][TIME: 0 m 55 s] [LR: 0.00100]\n"
          ]
        },
        {
          "output_type": "stream",
          "name": "stderr",
          "text": [
            "100%|██████████| 153/153 [00:51<00:00,  2.94it/s]\n"
          ]
        },
        {
          "output_type": "stream",
          "name": "stdout",
          "text": [
            "[Epoch 15][TRAIN on 4893 [Loss: 0.0763  ACC: 0.9720]][TIME: 0 m 52 s] [LR: 0.00100]\n"
          ]
        },
        {
          "output_type": "stream",
          "name": "stderr",
          "text": [
            "100%|██████████| 153/153 [00:48<00:00,  3.18it/s]\n"
          ]
        },
        {
          "output_type": "stream",
          "name": "stdout",
          "text": [
            "[Epoch 16][TRAIN on 4893 [Loss: 0.0706  ACC: 0.9738]][TIME: 0 m 48 s] [LR: 0.00100]\n"
          ]
        },
        {
          "output_type": "stream",
          "name": "stderr",
          "text": [
            "100%|██████████| 153/153 [00:51<00:00,  2.96it/s]\n"
          ]
        },
        {
          "output_type": "stream",
          "name": "stdout",
          "text": [
            "[Epoch 17][TRAIN on 4893 [Loss: 0.0714  ACC: 0.9740]][TIME: 0 m 52 s] [LR: 0.00100]\n"
          ]
        },
        {
          "output_type": "stream",
          "name": "stderr",
          "text": [
            "100%|██████████| 153/153 [00:48<00:00,  3.16it/s]\n"
          ]
        },
        {
          "output_type": "stream",
          "name": "stdout",
          "text": [
            "[Epoch 18][TRAIN on 4893 [Loss: 0.0633  ACC: 0.9755]][TIME: 0 m 49 s] [LR: 0.00100]\n"
          ]
        },
        {
          "output_type": "stream",
          "name": "stderr",
          "text": [
            "100%|██████████| 153/153 [00:48<00:00,  3.18it/s]\n"
          ]
        },
        {
          "output_type": "stream",
          "name": "stdout",
          "text": [
            "[Epoch 19][TRAIN on 4893 [Loss: 0.0599  ACC: 0.9773]][TIME: 0 m 48 s] [LR: 0.00100]\n"
          ]
        },
        {
          "output_type": "stream",
          "name": "stderr",
          "text": [
            "100%|██████████| 153/153 [00:49<00:00,  3.10it/s]\n"
          ]
        },
        {
          "output_type": "stream",
          "name": "stdout",
          "text": [
            "[Epoch 20][TRAIN on 4893 [Loss: 0.0601  ACC: 0.9771]][TIME: 0 m 50 s] [LR: 0.00100]\n"
          ]
        },
        {
          "output_type": "stream",
          "name": "stderr",
          "text": [
            "100%|██████████| 153/153 [00:55<00:00,  2.77it/s]\n"
          ]
        },
        {
          "output_type": "stream",
          "name": "stdout",
          "text": [
            "[Epoch 21][TRAIN on 4893 [Loss: 0.0615  ACC: 0.9761]][TIME: 0 m 55 s] [LR: 0.00100]\n"
          ]
        },
        {
          "output_type": "stream",
          "name": "stderr",
          "text": [
            "100%|██████████| 153/153 [00:51<00:00,  2.94it/s]\n"
          ]
        },
        {
          "output_type": "stream",
          "name": "stdout",
          "text": [
            "[Epoch 22][TRAIN on 4893 [Loss: 0.0673  ACC: 0.9738]][TIME: 0 m 52 s] [LR: 0.00100]\n"
          ]
        },
        {
          "output_type": "stream",
          "name": "stderr",
          "text": [
            "100%|██████████| 153/153 [00:50<00:00,  3.05it/s]\n"
          ]
        },
        {
          "output_type": "stream",
          "name": "stdout",
          "text": [
            "[Epoch 23][TRAIN on 4893 [Loss: 0.0496  ACC: 0.9822]][TIME: 0 m 51 s] [LR: 0.00100]\n"
          ]
        },
        {
          "output_type": "stream",
          "name": "stderr",
          "text": [
            "100%|██████████| 153/153 [00:50<00:00,  3.06it/s]\n"
          ]
        },
        {
          "output_type": "stream",
          "name": "stdout",
          "text": [
            "[Epoch 24][TRAIN on 4893 [Loss: 0.0497  ACC: 0.9828]][TIME: 0 m 50 s] [LR: 0.00100]\n"
          ]
        },
        {
          "output_type": "stream",
          "name": "stderr",
          "text": [
            "100%|██████████| 153/153 [00:47<00:00,  3.21it/s]\n"
          ]
        },
        {
          "output_type": "stream",
          "name": "stdout",
          "text": [
            "[Epoch 25][TRAIN on 4893 [Loss: 0.0428  ACC: 0.9834]][TIME: 0 m 48 s] [LR: 0.00100]\n"
          ]
        }
      ]
    },
    {
      "cell_type": "markdown",
      "source": [
        " # Predizioni del Test e creazione del CSV"
      ],
      "metadata": {
        "id": "vixSlGbxGpSS"
      }
    },
    {
      "cell_type": "code",
      "source": [
        "class My_DatasetFolder_Test(Dataset):\n",
        "    def __init__(self, root, transform=None, is_valid_file=None):\n",
        "        self.root = root\n",
        "        self.transform = transform\n",
        "        self.is_valid_file = is_valid_file\n",
        "        self.samples = self.__get_samples()\n",
        "\n",
        "    def __len__(self):\n",
        "        return len(self.samples)\n",
        "\n",
        "    def __get_samples(self):\n",
        "        ListFiles = []\n",
        "        list_files = os.listdir(self.root)\n",
        "        for file_name in list_files:\n",
        "            if self.is_valid_file(os.path.join(self.root, file_name)):\n",
        "                ListFiles.append((os.path.join(self.root, file_name), 0))\n",
        "        return ListFiles\n",
        "\n",
        "    def loader_fc(self, path):\n",
        "        img = np.load(path)\n",
        "        return img\n",
        "\n",
        "    def __getitem__(self, index: int):\n",
        "        path, target = self.samples[index]\n",
        "        sample = self.loader_fc(path)\n",
        "        if self.transform is not None:\n",
        "            sample = self.transform(sample)\n",
        "        return sample, target"
      ],
      "metadata": {
        "id": "137_n96SNxtt"
      },
      "execution_count": null,
      "outputs": []
    },
    {
      "cell_type": "code",
      "source": [
        "def extract_number_from_path(path):\n",
        "    # Estrae il numero dal percorso usando un'espressione regolare\n",
        "    match = re.search(r'/(\\d+)\\.npy$', path)\n",
        "    if match:\n",
        "        return int(match.group(1))\n",
        "    else:\n",
        "        return float('inf')  # Ritorna infinito se non viene trovato alcun numero\n",
        "\n",
        "def prepare_test_dataset(test_path, transform, is_valid_file, device):\n",
        "    test_data = My_DatasetFolder_Test(root=test_path, transform=transform, is_valid_file=is_valid_file)\n",
        "\n",
        "    # Ottieni i percorsi dei file invece dei dati trasformati\n",
        "    test_file_paths = [sample[0] for sample in test_data.samples]\n",
        "\n",
        "    # Ordina i percorsi dei file in base al numero presente in ciascun percorso\n",
        "    test_file_paths_sorted = sorted(test_file_paths, key=extract_number_from_path)\n",
        "\n",
        "    return test_file_paths_sorted"
      ],
      "metadata": {
        "id": "a9wcR5oJ8EEd"
      },
      "execution_count": null,
      "outputs": []
    },
    {
      "cell_type": "code",
      "source": [
        "is_valid_file = lambda path: path.endswith('.npy')\n",
        "test_file_paths = prepare_test_dataset(TEST_PATH, data_transforms['val'], is_valid_file, device)"
      ],
      "metadata": {
        "id": "SxSQraD18HKw"
      },
      "execution_count": null,
      "outputs": []
    },
    {
      "cell_type": "code",
      "source": [
        "def predict_and_save(model, model_weights_path, test_file_paths, transform, output_csv, device):\n",
        "    # Carica i pesi del modello e convertili in FloatTensor\n",
        "    model.load_state_dict(torch.load(model_weights_path, map_location=device))\n",
        "    model.to(device)\n",
        "    model.eval()\n",
        "\n",
        "    # Funzione di sigmoid\n",
        "    sigmoid = nn.Sigmoid()\n",
        "\n",
        "    results = []\n",
        "\n",
        "    # Per ogni immagine nel test set\n",
        "    for img_path in test_file_paths:\n",
        "        # Carica l'immagine dal file path\n",
        "        img = np.load(img_path)\n",
        "\n",
        "        # Applica le trasformazioni\n",
        "        img_tensor = transform(img).float().to(device)  # Applica le trasformazioni direttamente\n",
        "\n",
        "        # Verifica l'ordine delle dimensioni e correggilo se necessario\n",
        "        if img_tensor.shape[0] != 3:\n",
        "            img_tensor = img_tensor.permute(2, 0, 1)  # Assicurati che l'ordine delle dimensioni sia (C, H, W)\n",
        "\n",
        "        with torch.no_grad():\n",
        "            pred = model(img_tensor.unsqueeze(0))  # Aggiungi una dimensione iniziale per il batch\n",
        "            prob = sigmoid(pred)\n",
        "\n",
        "        # Ottiene la classe predetta\n",
        "        predicted_class = 'malignant' if prob.item() > 0.5 else 'benign'\n",
        "\n",
        "        # Ottieni l'ID dall'immagine\n",
        "        img_name = os.path.basename(img_path)\n",
        "        img_id, _ = os.path.splitext(img_name)\n",
        "\n",
        "        # Salva il risultato\n",
        "        results.append((img_id + '.npy', predicted_class))\n",
        "\n",
        "    # Crea un DataFrame\n",
        "    df = pd.DataFrame(results, columns=['ID', 'Class'])\n",
        "\n",
        "    # Salva il DataFrame nel file CSV sovrascrivendo il file esistente, se presente\n",
        "    df.to_csv(output_csv, index=False, mode='w')"
      ],
      "metadata": {
        "id": "GxFqqfbv8Q-k"
      },
      "execution_count": null,
      "outputs": []
    },
    {
      "cell_type": "code",
      "source": [
        "predict_and_save(model_conv, FINAL_WEIGHTS_PATH + '/weights.pth', test_file_paths, data_transforms['val'], DATA_PATH + '/final_prediction.csv', device)"
      ],
      "metadata": {
        "id": "qNJuDxUW8Tr-"
      },
      "execution_count": null,
      "outputs": []
    }
  ],
  "metadata": {
    "accelerator": "GPU",
    "colab": {
      "collapsed_sections": [
        "xkD46W9C4wyt",
        "o24JpwueTm7J",
        "Mu9qDOUQVXAx",
        "-ahKqZ-Kyfc1",
        "FxcwDV5sUl1i",
        "RRfbXMRSEZzR",
        "eVRyLlv4UE62",
        "u1rb03hCcbQ0",
        "cme6Q_p301y_",
        "mrqChSDvh1qg",
        "jnsyefREGTMJ",
        "qHUATeFa4dSC",
        "jPR-HAgOGkMY",
        "vixSlGbxGpSS"
      ],
      "gpuType": "T4",
      "provenance": []
    },
    "kernelspec": {
      "display_name": "Python 3",
      "name": "python3"
    },
    "language_info": {
      "name": "python"
    }
  },
  "nbformat": 4,
  "nbformat_minor": 0
}